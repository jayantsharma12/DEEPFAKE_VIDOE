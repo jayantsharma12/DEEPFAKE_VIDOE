{
  "nbformat": 4,
  "nbformat_minor": 0,
  "metadata": {
    "colab": {
      "provenance": [],
      "gpuType": "V28",
      "mount_file_id": "1y5tIE1fAXwN7b7lWKycjRS_byWBZySzU",
      "authorship_tag": "ABX9TyObOvXe4JS5/eSlAxdIoHor",
      "include_colab_link": true
    },
    "kernelspec": {
      "name": "python3",
      "display_name": "Python 3"
    },
    "language_info": {
      "name": "python"
    },
    "accelerator": "TPU"
  },
  "cells": [
    {
      "cell_type": "markdown",
      "metadata": {
        "id": "view-in-github",
        "colab_type": "text"
      },
      "source": [
        "<a href=\"https://colab.research.google.com/github/jayantsharma12/DEEPFAKE_VIDOE/blob/main/DEEPFAKE_nEWS_.ipynb\" target=\"_parent\"><img src=\"https://colab.research.google.com/assets/colab-badge.svg\" alt=\"Open In Colab\"/></a>"
      ]
    },
    {
      "cell_type": "code",
      "source": [
        "!pip install 'tensorflow[and-cuda]'"
      ],
      "metadata": {
        "colab": {
          "base_uri": "https://localhost:8080/"
        },
        "id": "slMYSZa1uwTY",
        "outputId": "09598e97-aed3-473c-c077-ac44cd5e3861"
      },
      "execution_count": null,
      "outputs": [
        {
          "output_type": "stream",
          "name": "stdout",
          "text": [
            "Collecting tensorflow[and-cuda]\n",
            "  Downloading tensorflow-2.19.0-cp311-cp311-manylinux_2_17_x86_64.manylinux2014_x86_64.whl.metadata (4.1 kB)\n",
            "Requirement already satisfied: absl-py>=1.0.0 in /usr/local/lib/python3.11/dist-packages (from tensorflow[and-cuda]) (1.4.0)\n",
            "Collecting astunparse>=1.6.0 (from tensorflow[and-cuda])\n",
            "  Downloading astunparse-1.6.3-py2.py3-none-any.whl.metadata (4.4 kB)\n",
            "Collecting flatbuffers>=24.3.25 (from tensorflow[and-cuda])\n",
            "  Downloading flatbuffers-25.2.10-py2.py3-none-any.whl.metadata (875 bytes)\n",
            "Requirement already satisfied: gast!=0.5.0,!=0.5.1,!=0.5.2,>=0.2.1 in /usr/local/lib/python3.11/dist-packages (from tensorflow[and-cuda]) (0.6.0)\n",
            "Collecting google-pasta>=0.1.1 (from tensorflow[and-cuda])\n",
            "  Downloading google_pasta-0.2.0-py3-none-any.whl.metadata (814 bytes)\n",
            "Collecting libclang>=13.0.0 (from tensorflow[and-cuda])\n",
            "  Downloading libclang-18.1.1-py2.py3-none-manylinux2010_x86_64.whl.metadata (5.2 kB)\n",
            "Requirement already satisfied: opt-einsum>=2.3.2 in /usr/local/lib/python3.11/dist-packages (from tensorflow[and-cuda]) (3.4.0)\n",
            "Requirement already satisfied: packaging in /usr/local/lib/python3.11/dist-packages (from tensorflow[and-cuda]) (24.2)\n",
            "Requirement already satisfied: protobuf!=4.21.0,!=4.21.1,!=4.21.2,!=4.21.3,!=4.21.4,!=4.21.5,<6.0.0dev,>=3.20.3 in /usr/local/lib/python3.11/dist-packages (from tensorflow[and-cuda]) (5.29.3)\n",
            "Requirement already satisfied: requests<3,>=2.21.0 in /usr/local/lib/python3.11/dist-packages (from tensorflow[and-cuda]) (2.32.3)\n",
            "Requirement already satisfied: setuptools in /usr/local/lib/python3.11/dist-packages (from tensorflow[and-cuda]) (75.1.0)\n",
            "Requirement already satisfied: six>=1.12.0 in /usr/local/lib/python3.11/dist-packages (from tensorflow[and-cuda]) (1.17.0)\n",
            "Requirement already satisfied: termcolor>=1.1.0 in /usr/local/lib/python3.11/dist-packages (from tensorflow[and-cuda]) (2.5.0)\n",
            "Requirement already satisfied: typing-extensions>=3.6.6 in /usr/local/lib/python3.11/dist-packages (from tensorflow[and-cuda]) (4.12.2)\n",
            "Requirement already satisfied: wrapt>=1.11.0 in /usr/local/lib/python3.11/dist-packages (from tensorflow[and-cuda]) (1.17.2)\n",
            "Requirement already satisfied: grpcio<2.0,>=1.24.3 in /usr/local/lib/python3.11/dist-packages (from tensorflow[and-cuda]) (1.71.0)\n",
            "Collecting tensorboard~=2.19.0 (from tensorflow[and-cuda])\n",
            "  Downloading tensorboard-2.19.0-py3-none-any.whl.metadata (1.8 kB)\n",
            "Requirement already satisfied: keras>=3.5.0 in /usr/local/lib/python3.11/dist-packages (from tensorflow[and-cuda]) (3.8.0)\n",
            "Requirement already satisfied: numpy<2.2.0,>=1.26.0 in /usr/local/lib/python3.11/dist-packages (from tensorflow[and-cuda]) (2.0.2)\n",
            "Requirement already satisfied: h5py>=3.11.0 in /usr/local/lib/python3.11/dist-packages (from tensorflow[and-cuda]) (3.13.0)\n",
            "Requirement already satisfied: ml-dtypes<1.0.0,>=0.5.1 in /usr/local/lib/python3.11/dist-packages (from tensorflow[and-cuda]) (0.5.1)\n",
            "Collecting tensorflow-io-gcs-filesystem>=0.23.1 (from tensorflow[and-cuda])\n",
            "  Downloading tensorflow_io_gcs_filesystem-0.37.1-cp311-cp311-manylinux_2_17_x86_64.manylinux2014_x86_64.whl.metadata (14 kB)\n",
            "Collecting nvidia-cublas-cu12==12.5.3.2 (from tensorflow[and-cuda])\n",
            "  Downloading nvidia_cublas_cu12-12.5.3.2-py3-none-manylinux2014_x86_64.whl.metadata (1.5 kB)\n",
            "Collecting nvidia-cuda-cupti-cu12==12.5.82 (from tensorflow[and-cuda])\n",
            "  Downloading nvidia_cuda_cupti_cu12-12.5.82-py3-none-manylinux2014_x86_64.whl.metadata (1.6 kB)\n",
            "Collecting nvidia-cuda-nvcc-cu12==12.5.82 (from tensorflow[and-cuda])\n",
            "  Downloading nvidia_cuda_nvcc_cu12-12.5.82-py3-none-manylinux2014_x86_64.whl.metadata (1.5 kB)\n",
            "Collecting nvidia-cuda-nvrtc-cu12==12.5.82 (from tensorflow[and-cuda])\n",
            "  Downloading nvidia_cuda_nvrtc_cu12-12.5.82-py3-none-manylinux2014_x86_64.whl.metadata (1.5 kB)\n",
            "Collecting nvidia-cuda-runtime-cu12==12.5.82 (from tensorflow[and-cuda])\n",
            "  Downloading nvidia_cuda_runtime_cu12-12.5.82-py3-none-manylinux2014_x86_64.whl.metadata (1.5 kB)\n",
            "Collecting nvidia-cudnn-cu12==9.3.0.75 (from tensorflow[and-cuda])\n",
            "  Downloading nvidia_cudnn_cu12-9.3.0.75-py3-none-manylinux2014_x86_64.whl.metadata (1.6 kB)\n",
            "Collecting nvidia-cufft-cu12==11.2.3.61 (from tensorflow[and-cuda])\n",
            "  Downloading nvidia_cufft_cu12-11.2.3.61-py3-none-manylinux2014_x86_64.whl.metadata (1.5 kB)\n",
            "Collecting nvidia-curand-cu12==10.3.6.82 (from tensorflow[and-cuda])\n",
            "  Downloading nvidia_curand_cu12-10.3.6.82-py3-none-manylinux2014_x86_64.whl.metadata (1.5 kB)\n",
            "Collecting nvidia-cusolver-cu12==11.6.3.83 (from tensorflow[and-cuda])\n",
            "  Downloading nvidia_cusolver_cu12-11.6.3.83-py3-none-manylinux2014_x86_64.whl.metadata (1.6 kB)\n",
            "Collecting nvidia-cusparse-cu12==12.5.1.3 (from tensorflow[and-cuda])\n",
            "  Downloading nvidia_cusparse_cu12-12.5.1.3-py3-none-manylinux2014_x86_64.whl.metadata (1.6 kB)\n",
            "Collecting nvidia-nccl-cu12==2.23.4 (from tensorflow[and-cuda])\n",
            "  Downloading nvidia_nccl_cu12-2.23.4-py3-none-manylinux2014_x86_64.whl.metadata (1.8 kB)\n",
            "Collecting nvidia-nvjitlink-cu12==12.5.82 (from tensorflow[and-cuda])\n",
            "  Downloading nvidia_nvjitlink_cu12-12.5.82-py3-none-manylinux2014_x86_64.whl.metadata (1.5 kB)\n",
            "Collecting wheel<1.0,>=0.23.0 (from astunparse>=1.6.0->tensorflow[and-cuda])\n",
            "  Downloading wheel-0.45.1-py3-none-any.whl.metadata (2.3 kB)\n",
            "Requirement already satisfied: rich in /usr/local/lib/python3.11/dist-packages (from keras>=3.5.0->tensorflow[and-cuda]) (13.9.4)\n",
            "Requirement already satisfied: namex in /usr/local/lib/python3.11/dist-packages (from keras>=3.5.0->tensorflow[and-cuda]) (0.0.8)\n",
            "Requirement already satisfied: optree in /usr/local/lib/python3.11/dist-packages (from keras>=3.5.0->tensorflow[and-cuda]) (0.14.1)\n",
            "Requirement already satisfied: charset-normalizer<4,>=2 in /usr/local/lib/python3.11/dist-packages (from requests<3,>=2.21.0->tensorflow[and-cuda]) (3.4.1)\n",
            "Requirement already satisfied: idna<4,>=2.5 in /usr/local/lib/python3.11/dist-packages (from requests<3,>=2.21.0->tensorflow[and-cuda]) (3.10)\n",
            "Requirement already satisfied: urllib3<3,>=1.21.1 in /usr/local/lib/python3.11/dist-packages (from requests<3,>=2.21.0->tensorflow[and-cuda]) (2.3.0)\n",
            "Requirement already satisfied: certifi>=2017.4.17 in /usr/local/lib/python3.11/dist-packages (from requests<3,>=2.21.0->tensorflow[and-cuda]) (2025.1.31)\n",
            "Requirement already satisfied: markdown>=2.6.8 in /usr/lib/python3/dist-packages (from tensorboard~=2.19.0->tensorflow[and-cuda]) (3.3.6)\n",
            "Collecting tensorboard-data-server<0.8.0,>=0.7.0 (from tensorboard~=2.19.0->tensorflow[and-cuda])\n",
            "  Downloading tensorboard_data_server-0.7.2-py3-none-manylinux_2_31_x86_64.whl.metadata (1.1 kB)\n",
            "Collecting werkzeug>=1.0.1 (from tensorboard~=2.19.0->tensorflow[and-cuda])\n",
            "  Downloading werkzeug-3.1.3-py3-none-any.whl.metadata (3.7 kB)\n",
            "Requirement already satisfied: MarkupSafe>=2.1.1 in /usr/local/lib/python3.11/dist-packages (from werkzeug>=1.0.1->tensorboard~=2.19.0->tensorflow[and-cuda]) (3.0.2)\n",
            "Requirement already satisfied: markdown-it-py>=2.2.0 in /usr/local/lib/python3.11/dist-packages (from rich->keras>=3.5.0->tensorflow[and-cuda]) (3.0.0)\n",
            "Requirement already satisfied: pygments<3.0.0,>=2.13.0 in /usr/local/lib/python3.11/dist-packages (from rich->keras>=3.5.0->tensorflow[and-cuda]) (2.19.1)\n",
            "Requirement already satisfied: mdurl~=0.1 in /usr/local/lib/python3.11/dist-packages (from markdown-it-py>=2.2.0->rich->keras>=3.5.0->tensorflow[and-cuda]) (0.1.2)\n",
            "Downloading nvidia_cublas_cu12-12.5.3.2-py3-none-manylinux2014_x86_64.whl (363.3 MB)\n",
            "\u001b[2K   \u001b[90m━━━━━━━━━━━━━━━━━━━━━━━━━━━━━━━━━━━━━━━━\u001b[0m \u001b[32m363.3/363.3 MB\u001b[0m \u001b[31m2.8 MB/s\u001b[0m eta \u001b[36m0:00:00\u001b[0m\n",
            "\u001b[?25hDownloading nvidia_cuda_cupti_cu12-12.5.82-py3-none-manylinux2014_x86_64.whl (13.8 MB)\n",
            "\u001b[2K   \u001b[90m━━━━━━━━━━━━━━━━━━━━━━━━━━━━━━━━━━━━━━━━\u001b[0m \u001b[32m13.8/13.8 MB\u001b[0m \u001b[31m99.9 MB/s\u001b[0m eta \u001b[36m0:00:00\u001b[0m\n",
            "\u001b[?25hDownloading nvidia_cuda_nvcc_cu12-12.5.82-py3-none-manylinux2014_x86_64.whl (22.5 MB)\n",
            "\u001b[2K   \u001b[90m━━━━━━━━━━━━━━━━━━━━━━━━━━━━━━━━━━━━━━━━\u001b[0m \u001b[32m22.5/22.5 MB\u001b[0m \u001b[31m81.4 MB/s\u001b[0m eta \u001b[36m0:00:00\u001b[0m\n",
            "\u001b[?25hDownloading nvidia_cuda_nvrtc_cu12-12.5.82-py3-none-manylinux2014_x86_64.whl (24.9 MB)\n",
            "\u001b[2K   \u001b[90m━━━━━━━━━━━━━━━━━━━━━━━━━━━━━━━━━━━━━━━━\u001b[0m \u001b[32m24.9/24.9 MB\u001b[0m \u001b[31m62.2 MB/s\u001b[0m eta \u001b[36m0:00:00\u001b[0m\n",
            "\u001b[?25hDownloading nvidia_cuda_runtime_cu12-12.5.82-py3-none-manylinux2014_x86_64.whl (895 kB)\n",
            "\u001b[2K   \u001b[90m━━━━━━━━━━━━━━━━━━━━━━━━━━━━━━━━━━━━━━━━\u001b[0m \u001b[32m895.7/895.7 kB\u001b[0m \u001b[31m37.1 MB/s\u001b[0m eta \u001b[36m0:00:00\u001b[0m\n",
            "\u001b[?25hDownloading nvidia_cudnn_cu12-9.3.0.75-py3-none-manylinux2014_x86_64.whl (577.2 MB)\n",
            "\u001b[2K   \u001b[90m━━━━━━━━━━━━━━━━━━━━━━━━━━━━━━━━━━━━━━━━\u001b[0m \u001b[32m577.2/577.2 MB\u001b[0m \u001b[31m1.8 MB/s\u001b[0m eta \u001b[36m0:00:00\u001b[0m\n",
            "\u001b[?25hDownloading nvidia_cufft_cu12-11.2.3.61-py3-none-manylinux2014_x86_64.whl (192.5 MB)\n",
            "\u001b[2K   \u001b[90m━━━━━━━━━━━━━━━━━━━━━━━━━━━━━━━━━━━━━━━━\u001b[0m \u001b[32m192.5/192.5 MB\u001b[0m \u001b[31m5.4 MB/s\u001b[0m eta \u001b[36m0:00:00\u001b[0m\n",
            "\u001b[?25hDownloading nvidia_curand_cu12-10.3.6.82-py3-none-manylinux2014_x86_64.whl (56.3 MB)\n",
            "\u001b[2K   \u001b[90m━━━━━━━━━━━━━━━━━━━━━━━━━━━━━━━━━━━━━━━━\u001b[0m \u001b[32m56.3/56.3 MB\u001b[0m \u001b[31m21.2 MB/s\u001b[0m eta \u001b[36m0:00:00\u001b[0m\n",
            "\u001b[?25hDownloading nvidia_cusolver_cu12-11.6.3.83-py3-none-manylinux2014_x86_64.whl (130.3 MB)\n",
            "\u001b[2K   \u001b[90m━━━━━━━━━━━━━━━━━━━━━━━━━━━━━━━━━━━━━━━━\u001b[0m \u001b[32m130.3/130.3 MB\u001b[0m \u001b[31m7.6 MB/s\u001b[0m eta \u001b[36m0:00:00\u001b[0m\n",
            "\u001b[?25hDownloading nvidia_cusparse_cu12-12.5.1.3-py3-none-manylinux2014_x86_64.whl (217.6 MB)\n",
            "\u001b[2K   \u001b[90m━━━━━━━━━━━━━━━━━━━━━━━━━━━━━━━━━━━━━━━━\u001b[0m \u001b[32m217.6/217.6 MB\u001b[0m \u001b[31m4.8 MB/s\u001b[0m eta \u001b[36m0:00:00\u001b[0m\n",
            "\u001b[?25hDownloading nvidia_nccl_cu12-2.23.4-py3-none-manylinux2014_x86_64.whl (199.0 MB)\n",
            "\u001b[2K   \u001b[90m━━━━━━━━━━━━━━━━━━━━━━━━━━━━━━━━━━━━━━━━\u001b[0m \u001b[32m199.0/199.0 MB\u001b[0m \u001b[31m3.4 MB/s\u001b[0m eta \u001b[36m0:00:00\u001b[0m\n",
            "\u001b[?25hDownloading nvidia_nvjitlink_cu12-12.5.82-py3-none-manylinux2014_x86_64.whl (21.3 MB)\n",
            "\u001b[2K   \u001b[90m━━━━━━━━━━━━━━━━━━━━━━━━━━━━━━━━━━━━━━━━\u001b[0m \u001b[32m21.3/21.3 MB\u001b[0m \u001b[31m79.8 MB/s\u001b[0m eta \u001b[36m0:00:00\u001b[0m\n",
            "\u001b[?25hDownloading astunparse-1.6.3-py2.py3-none-any.whl (12 kB)\n",
            "Downloading flatbuffers-25.2.10-py2.py3-none-any.whl (30 kB)\n",
            "Downloading google_pasta-0.2.0-py3-none-any.whl (57 kB)\n",
            "\u001b[2K   \u001b[90m━━━━━━━━━━━━━━━━━━━━━━━━━━━━━━━━━━━━━━━━\u001b[0m \u001b[32m57.5/57.5 kB\u001b[0m \u001b[31m3.7 MB/s\u001b[0m eta \u001b[36m0:00:00\u001b[0m\n",
            "\u001b[?25hDownloading libclang-18.1.1-py2.py3-none-manylinux2010_x86_64.whl (24.5 MB)\n",
            "\u001b[2K   \u001b[90m━━━━━━━━━━━━━━━━━━━━━━━━━━━━━━━━━━━━━━━━\u001b[0m \u001b[32m24.5/24.5 MB\u001b[0m \u001b[31m70.0 MB/s\u001b[0m eta \u001b[36m0:00:00\u001b[0m\n",
            "\u001b[?25hDownloading tensorboard-2.19.0-py3-none-any.whl (5.5 MB)\n",
            "\u001b[2K   \u001b[90m━━━━━━━━━━━━━━━━━━━━━━━━━━━━━━━━━━━━━━━━\u001b[0m \u001b[32m5.5/5.5 MB\u001b[0m \u001b[31m92.0 MB/s\u001b[0m eta \u001b[36m0:00:00\u001b[0m\n",
            "\u001b[?25hDownloading tensorflow_io_gcs_filesystem-0.37.1-cp311-cp311-manylinux_2_17_x86_64.manylinux2014_x86_64.whl (5.1 MB)\n",
            "\u001b[2K   \u001b[90m━━━━━━━━━━━━━━━━━━━━━━━━━━━━━━━━━━━━━━━━\u001b[0m \u001b[32m5.1/5.1 MB\u001b[0m \u001b[31m87.7 MB/s\u001b[0m eta \u001b[36m0:00:00\u001b[0m\n",
            "\u001b[?25hDownloading tensorflow-2.19.0-cp311-cp311-manylinux_2_17_x86_64.manylinux2014_x86_64.whl (644.9 MB)\n",
            "\u001b[2K   \u001b[90m━━━━━━━━━━━━━━━━━━━━━━━━━━━━━━━━━━━━━━━━\u001b[0m \u001b[32m644.9/644.9 MB\u001b[0m \u001b[31m526.9 kB/s\u001b[0m eta \u001b[36m0:00:00\u001b[0m\n",
            "\u001b[?25hDownloading tensorboard_data_server-0.7.2-py3-none-manylinux_2_31_x86_64.whl (6.6 MB)\n",
            "\u001b[2K   \u001b[90m━━━━━━━━━━━━━━━━━━━━━━━━━━━━━━━━━━━━━━━━\u001b[0m \u001b[32m6.6/6.6 MB\u001b[0m \u001b[31m105.3 MB/s\u001b[0m eta \u001b[36m0:00:00\u001b[0m\n",
            "\u001b[?25hDownloading werkzeug-3.1.3-py3-none-any.whl (224 kB)\n",
            "\u001b[2K   \u001b[90m━━━━━━━━━━━━━━━━━━━━━━━━━━━━━━━━━━━━━━━━\u001b[0m \u001b[32m224.5/224.5 kB\u001b[0m \u001b[31m15.7 MB/s\u001b[0m eta \u001b[36m0:00:00\u001b[0m\n",
            "\u001b[?25hDownloading wheel-0.45.1-py3-none-any.whl (72 kB)\n",
            "\u001b[2K   \u001b[90m━━━━━━━━━━━━━━━━━━━━━━━━━━━━━━━━━━━━━━━━\u001b[0m \u001b[32m72.5/72.5 kB\u001b[0m \u001b[31m4.7 MB/s\u001b[0m eta \u001b[36m0:00:00\u001b[0m\n",
            "\u001b[?25hInstalling collected packages: libclang, flatbuffers, wheel, werkzeug, tensorflow-io-gcs-filesystem, tensorboard-data-server, nvidia-nvjitlink-cu12, nvidia-nccl-cu12, nvidia-curand-cu12, nvidia-cuda-runtime-cu12, nvidia-cuda-nvrtc-cu12, nvidia-cuda-nvcc-cu12, nvidia-cuda-cupti-cu12, nvidia-cublas-cu12, google-pasta, tensorboard, nvidia-cusparse-cu12, nvidia-cufft-cu12, nvidia-cudnn-cu12, astunparse, nvidia-cusolver-cu12, tensorflow\n",
            "Successfully installed astunparse-1.6.3 flatbuffers-25.2.10 google-pasta-0.2.0 libclang-18.1.1 nvidia-cublas-cu12-12.5.3.2 nvidia-cuda-cupti-cu12-12.5.82 nvidia-cuda-nvcc-cu12-12.5.82 nvidia-cuda-nvrtc-cu12-12.5.82 nvidia-cuda-runtime-cu12-12.5.82 nvidia-cudnn-cu12-9.3.0.75 nvidia-cufft-cu12-11.2.3.61 nvidia-curand-cu12-10.3.6.82 nvidia-cusolver-cu12-11.6.3.83 nvidia-cusparse-cu12-12.5.1.3 nvidia-nccl-cu12-2.23.4 nvidia-nvjitlink-cu12-12.5.82 tensorboard-2.19.0 tensorboard-data-server-0.7.2 tensorflow-2.19.0 tensorflow-io-gcs-filesystem-0.37.1 werkzeug-3.1.3 wheel-0.45.1\n"
          ]
        }
      ]
    },
    {
      "cell_type": "code",
      "source": [
        "!pip install opencv-python"
      ],
      "metadata": {
        "colab": {
          "base_uri": "https://localhost:8080/"
        },
        "id": "uF3ErQlhq7TB",
        "outputId": "e9849075-f62f-425b-a43a-93575a660aeb"
      },
      "execution_count": null,
      "outputs": [
        {
          "output_type": "stream",
          "name": "stdout",
          "text": [
            "Collecting opencv-python\n",
            "  Downloading opencv_python-4.11.0.86-cp37-abi3-manylinux_2_17_x86_64.manylinux2014_x86_64.whl.metadata (20 kB)\n",
            "Requirement already satisfied: numpy>=1.21.2 in /usr/local/lib/python3.11/dist-packages (from opencv-python) (2.0.2)\n",
            "Downloading opencv_python-4.11.0.86-cp37-abi3-manylinux_2_17_x86_64.manylinux2014_x86_64.whl (63.0 MB)\n",
            "\u001b[2K   \u001b[90m━━━━━━━━━━━━━━━━━━━━━━━━━━━━━━━━━━━━━━━━\u001b[0m \u001b[32m63.0/63.0 MB\u001b[0m \u001b[31m18.7 MB/s\u001b[0m eta \u001b[36m0:00:00\u001b[0m\n",
            "\u001b[?25hInstalling collected packages: opencv-python\n",
            "Successfully installed opencv-python-4.11.0.86\n"
          ]
        }
      ]
    },
    {
      "cell_type": "code",
      "source": [
        "import os\n",
        "import zipfile\n",
        "\n",
        "# Define paths\n",
        "zip_path = \"/archive (5).zip\"  # Change this to your uploaded ZIP file path\n",
        "extract_path = \"/content/dataset\"\n",
        "\n",
        "# Unzip the dataset\n",
        "with zipfile.ZipFile(zip_path, 'r') as zip_ref:\n",
        "    zip_ref.extractall(extract_path)\n",
        "\n",
        "print(\"Dataset extracted successfully!\")\n",
        "\n",
        "# Function to explore the dataset structure\n",
        "def explore_dataset(directory):\n",
        "    for root, dirs, files in os.walk(directory):\n",
        "        level = root.replace(directory, \"\").count(os.sep)\n",
        "        indent = \" \" * 4 * level\n",
        "        print(f\"{indent}📂 {os.path.basename(root)}\")\n",
        "        sub_indent = \" \" * 4 * (level + 1)\n",
        "        for file in files[:5]:  # Show only first 5 files per folder for readability\n",
        "            print(f\"{sub_indent}📄 {file}\")\n",
        "        if len(files) > 5:\n",
        "            print(f\"{sub_indent}... {len(files) - 5} more files\")\n",
        "\n",
        "# Explore the dataset structure\n",
        "print(\"\\n📁 Dataset Structure:\")\n",
        "explore_dataset(extract_path)\n",
        "\n",
        "# List video files and formats\n",
        "video_extensions = {'.mp4', '.avi', '.mov', '.mkv'}\n",
        "video_files = []\n",
        "\n",
        "for root, _, files in os.walk(extract_path):\n",
        "    for file in files:\n",
        "        if any(file.lower().endswith(ext) for ext in video_extensions):\n",
        "            video_files.append(os.path.join(root, file))\n",
        "\n",
        "# Display video file details\n",
        "print(f\"\\n🎥 Found {len(video_files)} video files. Sample files:\")\n",
        "for video in video_files[:5]:  # Show only first 5 videos\n",
        "    print(f\"🔹 {video}\")\n",
        "\n",
        "# Check for metadata files (CSV, JSON, TXT)\n",
        "metadata_files = []\n",
        "for root, _, files in os.walk(extract_path):\n",
        "    for file in files:\n",
        "        if file.endswith((\".csv\", \".json\", \".txt\")):\n",
        "            metadata_files.append(os.path.join(root, file))\n",
        "\n",
        "if metadata_files:\n",
        "    print(f\"\\n📝 Metadata files found: {len(metadata_files)}\")\n",
        "    for meta in metadata_files:\n",
        "        print(f\"📄 {meta}\")\n",
        "else:\n",
        "    print(\"\\n⚠️ No metadata files found.\")\n"
      ],
      "metadata": {
        "colab": {
          "base_uri": "https://localhost:8080/"
        },
        "id": "-oLpCAbS0JgF",
        "outputId": "941a0e20-9caa-4146-f547-970cd037e839"
      },
      "execution_count": null,
      "outputs": [
        {
          "output_type": "stream",
          "name": "stdout",
          "text": [
            "Dataset extracted successfully!\n",
            "\n",
            "📁 Dataset Structure:\n",
            "📂 dataset\n",
            "    📂 multi-part6\n",
            "        📂 multi_dfdc_train_part_6\n",
            "            📄 fake-tqvdzgpzwp-0.mp4\n",
            "            📄 fake-awpdbtfgbj-0.mp4\n",
            "            📄 fake-xcmtevwwga-0.mp4\n",
            "            📄 fake-ldjgncjzfw-0.mp4\n",
            "            📄 real-keikgjgled-0.mp4\n",
            "            ... 920 more files\n",
            "    📂 multi-part5\n",
            "        📂 multi_dfdc_train_part_5\n",
            "            📄 fake-jailgizmln-1.mp4\n",
            "            📄 fake-ovxwligoon-1.mp4\n",
            "            📄 fake-knjceurdhv-0.mp4\n",
            "            📄 fake-fcfuyeauun-0.mp4\n",
            "            📄 fake-rfreelhcas-0.mp4\n",
            "            ... 1106 more files\n",
            "    📂 multi-part4\n",
            "        📂 multi_dfdc_train_part_4\n",
            "            📄 fake-yjlqmmufse-1.mp4\n",
            "            📄 fake-lwtjkykrfh-1.mp4\n",
            "            📄 real-kbxmnovqbo-1.mp4\n",
            "            📄 fake-tgtaisacai-0.mp4\n",
            "            📄 fake-jygnpdukjy-1.mp4\n",
            "            ... 700 more files\n",
            "    📂 part4\n",
            "        📂 dfdc_train_part_4\n",
            "            📄 fake-nrekjzntec.mp4\n",
            "            📄 fake-mgqceuafmt.mp4\n",
            "            📄 fake-rrqhbijzoe.mp4\n",
            "            📄 fake-ytbdhpfngo.mp4\n",
            "            📄 fake-elocxgidli.mp4\n",
            "            ... 1345 more files\n",
            "    📂 part8\n",
            "        📂 dfdc_train_part_8\n",
            "            📄 fake-jahvruaepm.mp4\n",
            "            📄 real-qhwxovphvx.mp4\n",
            "            📄 fake-mtftwnrzpl.mp4\n",
            "            📄 fake-wlmzwltota.mp4\n",
            "            📄 fake-ifymmduofn.mp4\n",
            "            ... 1760 more files\n",
            "    📂 multi-part8\n",
            "        📂 multi_dfdc_train_part_8\n",
            "            📄 real-iiwlglequh-0.mp4\n",
            "            📄 fake-ztwernvlim-0.mp4\n",
            "            📄 fake-zwdbwncozz-0.mp4\n",
            "            📄 real-cnigvwpbnp-1.mp4\n",
            "            📄 fake-jhbmyltlce-0.mp4\n",
            "            ... 100 more files\n",
            "    📂 part6\n",
            "        📂 dfdc_train_part_6\n",
            "            📄 fake-piysygnysy.mp4\n",
            "            📄 fake-hauymbirfa.mp4\n",
            "            📄 fake-qeyheaxmpv.mp4\n",
            "            📄 fake-zavgroapyc.mp4\n",
            "            📄 real-bzbgfksqiq.mp4\n",
            "            ... 2998 more files\n",
            "    📂 test_videos\n",
            "        📂 test_videos\n",
            "            📄 rfjuhbnlro.mp4\n",
            "            📄 fxuxxtryjn.mp4\n",
            "            📄 nymodlmxni.mp4\n",
            "            📄 kwfdyqofzw.mp4\n",
            "            📄 qqnlrngaft.mp4\n",
            "            ... 421 more files\n",
            "    📂 part7\n",
            "        📂 dfdc_train_part_7\n",
            "            📄 fake-rlmwbawvpv.mp4\n",
            "            📄 fake-gjdscgzxmd.mp4\n",
            "            📄 real-wuoxykvoee.mp4\n",
            "            📄 fake-jcbrkrekbh.mp4\n",
            "            📄 fake-pzecuoitxn.mp4\n",
            "            ... 2115 more files\n",
            "    📂 multi-part7\n",
            "        📂 multi_dfdc_train_part_7\n",
            "            📄 fake-bphndjivob-1.mp4\n",
            "            📄 fake-uznqukpeqp-0.mp4\n",
            "            📄 fake-padwwudrto-0.mp4\n",
            "            📄 fake-gcdlnnkzqr-0.mp4\n",
            "            📄 fake-fzrxqbxrcy-1.mp4\n",
            "            ... 704 more files\n",
            "    📂 part5\n",
            "        📂 dfdc_train_part_5\n",
            "            📄 real-emflfadjyb.mp4\n",
            "            📄 fake-tmiljxyjnz.mp4\n",
            "            📄 fake-tgniuovpll.mp4\n",
            "            📄 fake-ajtziexlkt.mp4\n",
            "            📄 fake-jzpjlfctui.mp4\n",
            "            ... 1924 more files\n",
            "\n",
            "🎥 Found 14138 video files. Sample files:\n",
            "🔹 /content/dataset/multi-part6/multi_dfdc_train_part_6/fake-tqvdzgpzwp-0.mp4\n",
            "🔹 /content/dataset/multi-part6/multi_dfdc_train_part_6/fake-awpdbtfgbj-0.mp4\n",
            "🔹 /content/dataset/multi-part6/multi_dfdc_train_part_6/fake-xcmtevwwga-0.mp4\n",
            "🔹 /content/dataset/multi-part6/multi_dfdc_train_part_6/fake-ldjgncjzfw-0.mp4\n",
            "🔹 /content/dataset/multi-part6/multi_dfdc_train_part_6/real-keikgjgled-0.mp4\n",
            "\n",
            "📝 Metadata files found: 10\n",
            "📄 /content/dataset/multi-part6/multi_dfdc_train_part_6/newmeta.json\n",
            "📄 /content/dataset/multi-part5/multi_dfdc_train_part_5/newmeta.json\n",
            "📄 /content/dataset/multi-part4/multi_dfdc_train_part_4/newmeta.json\n",
            "📄 /content/dataset/part4/dfdc_train_part_4/newmeta.json\n",
            "📄 /content/dataset/part8/dfdc_train_part_8/newmeta.json\n",
            "📄 /content/dataset/multi-part8/multi_dfdc_train_part_8/newmeta.json\n",
            "📄 /content/dataset/part6/dfdc_train_part_6/newmeta.json\n",
            "📄 /content/dataset/part7/dfdc_train_part_7/newmeta.json\n",
            "📄 /content/dataset/multi-part7/multi_dfdc_train_part_7/newmeta.json\n",
            "📄 /content/dataset/part5/dfdc_train_part_5/newmeta.json\n"
          ]
        }
      ]
    },
    {
      "cell_type": "code",
      "source": [
        "import json\n",
        "\n",
        "metadata_path = \"/content/dataset/part4/dfdc_train_part_4/newmeta.json\"  # Change path as needed\n",
        "\n",
        "# Load and print metadata\n",
        "with open(metadata_path, \"r\") as file:\n",
        "    metadata = json.load(file)\n",
        "\n",
        "# Show a sample entry\n",
        "print(json.dumps(metadata, indent=4)[:1000])  # Display first 1000 characters\n"
      ],
      "metadata": {
        "colab": {
          "base_uri": "https://localhost:8080/"
        },
        "id": "5KHUNnzF4HUx",
        "outputId": "cce14e8a-ab6f-43ee-ff63-069370f7c2e0"
      },
      "execution_count": null,
      "outputs": [
        {
          "output_type": "stream",
          "name": "stdout",
          "text": [
            "{\n",
            "    \"real-sayyjwtjol.mp4\": [\n",
            "        \"fake-qmitaqtqbj.mp4\",\n",
            "        \"fake-ockfqfgwmm.mp4\",\n",
            "        \"fake-dtymieprub.mp4\",\n",
            "        \"fake-eiidlcmtzl.mp4\"\n",
            "    ],\n",
            "    \"real-puudvugxrl.mp4\": [\n",
            "        \"fake-xabmdypvaw.mp4\",\n",
            "        \"fake-ylsrifcgco.mp4\",\n",
            "        \"fake-wcfhxxgyoj.mp4\",\n",
            "        \"fake-taykmwtpqj.mp4\"\n",
            "    ],\n",
            "    \"real-mclhnurizg.mp4\": [\n",
            "        \"fake-mwilojzhlq.mp4\",\n",
            "        \"fake-hkqjdfrizw.mp4\",\n",
            "        \"fake-lzbywctalw.mp4\",\n",
            "        \"fake-esjskfryfp.mp4\",\n",
            "        \"fake-uwjvhlqeob.mp4\",\n",
            "        \"fake-ffygnvpvtv.mp4\"\n",
            "    ],\n",
            "    \"real-nrknrodwza.mp4\": [\n",
            "        \"fake-abiodyryai.mp4\",\n",
            "        \"fake-hrmqirsrgx.mp4\",\n",
            "        \"fake-nyavwtjvmd.mp4\",\n",
            "        \"fake-dxbadsmdle.mp4\",\n",
            "        \"fake-ltnuuyoovr.mp4\",\n",
            "        \"fake-bkkdcgdoya.mp4\",\n",
            "        \"fake-esdysjlmku.mp4\"\n",
            "    ],\n",
            "    \"real-rcjyfjozsp.mp4\": [\n",
            "        \"fake-ogualjbong.mp4\",\n",
            "        \"fake-rfcxvumqie.mp4\",\n",
            "        \"fake-mgqceuafmt.mp4\",\n",
            "        \"fake-gaezfjhckb.mp4\",\n",
            "        \"fake-zaiqehhhrh.mp4\",\n",
            "        \"fake-cvcgyphqf\n"
          ]
        }
      ]
    },
    {
      "cell_type": "code",
      "source": [
        "import pandas as pd\n",
        "import os\n",
        "import json\n",
        "\n",
        "metadata_dir = \"/content/dataset\"  # Change this if needed\n",
        "all_metadata_files = []\n",
        "video_labels = []\n",
        "\n",
        "# Find all metadata files\n",
        "for root, _, files in os.walk(metadata_dir):\n",
        "    for file in files:\n",
        "        if file == \"newmeta.json\":\n",
        "            all_metadata_files.append(os.path.join(root, file))\n",
        "\n",
        "# Process each metadata file\n",
        "for meta_file in all_metadata_files:\n",
        "    with open(meta_file, \"r\") as f:\n",
        "        metadata = json.load(f)\n",
        "\n",
        "    for real_vid, fake_vids in metadata.items():\n",
        "        # Add real video entry\n",
        "        video_labels.append({\"filename\": real_vid, \"label\": \"real\"})\n",
        "\n",
        "        # Add fake video entries\n",
        "        for fake_vid in fake_vids:\n",
        "            video_labels.append({\"filename\": fake_vid, \"label\": \"fake\"})\n",
        "\n",
        "# Convert to DataFrame\n",
        "df = pd.DataFrame(video_labels)\n",
        "print(df.head(10))  # Show sample\n",
        "print(f\"\\nTotal videos labeled: {len(df)}\")\n"
      ],
      "metadata": {
        "colab": {
          "base_uri": "https://localhost:8080/"
        },
        "id": "UGoMRtTL4Zt5",
        "outputId": "43393d5d-e540-45af-bb8f-db725e8fe6cb"
      },
      "execution_count": null,
      "outputs": [
        {
          "output_type": "stream",
          "name": "stdout",
          "text": [
            "                filename label\n",
            "0  real-eseqomravm-0.mp4  real\n",
            "1  fake-lukcxqbdws-0.mp4  fake\n",
            "2  fake-cfkliqmphy-0.mp4  fake\n",
            "3  fake-avhogqrbfr-0.mp4  fake\n",
            "4  fake-bajoyrzwaa-0.mp4  fake\n",
            "5  fake-orabrinseb-0.mp4  fake\n",
            "6  fake-pstkkfubvq-0.mp4  fake\n",
            "7  fake-hsklltivuk-0.mp4  fake\n",
            "8  fake-dffqaqezvn-0.mp4  fake\n",
            "9  fake-egrydmhptw-0.mp4  fake\n",
            "\n",
            "Total videos labeled: 13712\n"
          ]
        }
      ]
    },
    {
      "cell_type": "code",
      "source": [
        "!pip install opencv-python-headless mtcnn tqdm\n"
      ],
      "metadata": {
        "colab": {
          "base_uri": "https://localhost:8080/"
        },
        "id": "HJPa4lMb5NmA",
        "outputId": "98d0bc62-bbf5-4f7e-e5ef-761729bc9e7b"
      },
      "execution_count": null,
      "outputs": [
        {
          "output_type": "stream",
          "name": "stdout",
          "text": [
            "Collecting opencv-python-headless\n",
            "  Downloading opencv_python_headless-4.11.0.86-cp37-abi3-manylinux_2_17_x86_64.manylinux2014_x86_64.whl.metadata (20 kB)\n",
            "Collecting mtcnn\n",
            "  Downloading mtcnn-1.0.0-py3-none-any.whl.metadata (5.8 kB)\n",
            "Requirement already satisfied: tqdm in /usr/local/lib/python3.11/dist-packages (4.67.1)\n",
            "Requirement already satisfied: numpy>=1.21.2 in /usr/local/lib/python3.11/dist-packages (from opencv-python-headless) (2.0.2)\n",
            "Requirement already satisfied: joblib>=1.4.2 in /usr/local/lib/python3.11/dist-packages (from mtcnn) (1.4.2)\n",
            "Collecting lz4>=4.3.3 (from mtcnn)\n",
            "  Downloading lz4-4.4.3-cp311-cp311-manylinux_2_17_x86_64.manylinux2014_x86_64.whl.metadata (3.8 kB)\n",
            "Downloading opencv_python_headless-4.11.0.86-cp37-abi3-manylinux_2_17_x86_64.manylinux2014_x86_64.whl (50.0 MB)\n",
            "\u001b[2K   \u001b[90m━━━━━━━━━━━━━━━━━━━━━━━━━━━━━━━━━━━━━━━━\u001b[0m \u001b[32m50.0/50.0 MB\u001b[0m \u001b[31m25.9 MB/s\u001b[0m eta \u001b[36m0:00:00\u001b[0m\n",
            "\u001b[?25hDownloading mtcnn-1.0.0-py3-none-any.whl (1.9 MB)\n",
            "\u001b[2K   \u001b[90m━━━━━━━━━━━━━━━━━━━━━━━━━━━━━━━━━━━━━━━━\u001b[0m \u001b[32m1.9/1.9 MB\u001b[0m \u001b[31m60.0 MB/s\u001b[0m eta \u001b[36m0:00:00\u001b[0m\n",
            "\u001b[?25hDownloading lz4-4.4.3-cp311-cp311-manylinux_2_17_x86_64.manylinux2014_x86_64.whl (1.3 MB)\n",
            "\u001b[2K   \u001b[90m━━━━━━━━━━━━━━━━━━━━━━━━━━━━━━━━━━━━━━━━\u001b[0m \u001b[32m1.3/1.3 MB\u001b[0m \u001b[31m48.7 MB/s\u001b[0m eta \u001b[36m0:00:00\u001b[0m\n",
            "\u001b[?25hInstalling collected packages: opencv-python-headless, lz4, mtcnn\n",
            "Successfully installed lz4-4.4.3 mtcnn-1.0.0 opencv-python-headless-4.11.0.86\n"
          ]
        }
      ]
    },
    {
      "cell_type": "code",
      "source": [
        "import cv2\n",
        "import os\n",
        "import numpy as np\n",
        "from mtcnn import MTCNN\n",
        "from tqdm import tqdm\n",
        "\n",
        "# Paths\n",
        "DATASET_DIR = \"/content/dataset\"  # Root dataset directory\n",
        "OUTPUT_DIR = \"/content/processed_faces\"  # Where cropped faces will be saved\n",
        "os.makedirs(OUTPUT_DIR, exist_ok=True)\n",
        "\n",
        "# Initialize face detector\n",
        "detector = MTCNN()\n",
        "\n",
        "def extract_faces(video_path, save_dir, frame_skip=10):\n",
        "    \"\"\"\n",
        "    Extracts faces from a video using MTCNN and saves them as images.\n",
        "\n",
        "    Parameters:\n",
        "        video_path (str): Path to the video file.\n",
        "        save_dir (str): Directory to save the extracted face images.\n",
        "        frame_skip (int): Number of frames to skip to avoid redundancy.\n",
        "    \"\"\"\n",
        "    cap = cv2.VideoCapture(video_path)\n",
        "    frame_count = 0\n",
        "    saved_count = 0\n",
        "\n",
        "    while cap.isOpened():\n",
        "        ret, frame = cap.read()\n",
        "        if not ret:\n",
        "            break\n",
        "\n",
        "        if frame_count % frame_skip == 0:\n",
        "            frame_rgb = cv2.cvtColor(frame, cv2.COLOR_BGR2RGB)  # Convert to RGB\n",
        "            faces = detector.detect_faces(frame_rgb)\n",
        "\n",
        "            for i, face in enumerate(faces):\n",
        "                x, y, w, h = face['box']\n",
        "                x, y = max(0, x), max(0, y)  # Ensure positive coordinates\n",
        "\n",
        "                face_crop = frame_rgb[y:y+h, x:x+w]\n",
        "                face_resized = cv2.resize(face_crop, (128, 128))  # Resize for consistency\n",
        "\n",
        "                save_path = os.path.join(save_dir, f\"frame_{frame_count}_face_{i}.jpg\")\n",
        "                cv2.imwrite(save_path, cv2.cvtColor(face_resized, cv2.COLOR_RGB2BGR))  # Save as image\n",
        "                saved_count += 1\n",
        "\n",
        "        frame_count += 1\n",
        "\n",
        "    cap.release()\n",
        "    return saved_count\n",
        "\n",
        "# Process all videos\n",
        "video_files = [os.path.join(root, file) for root, _, files in os.walk(DATASET_DIR) for file in files if file.endswith('.mp4')]\n",
        "\n",
        "for video_path in tqdm(video_files[:50]):  # Process first 50 videos (modify as needed)\n",
        "    video_name = os.path.splitext(os.path.basename(video_path))[0]\n",
        "    save_path = os.path.join(OUTPUT_DIR, video_name)\n",
        "    os.makedirs(save_path, exist_ok=True)\n",
        "\n",
        "    num_faces = extract_faces(video_path, save_path)\n",
        "    print(f\"Extracted {num_faces} faces from {video_name}\")\n",
        "\n",
        "print(\"✅ Face extraction completed!\")\n"
      ],
      "metadata": {
        "colab": {
          "base_uri": "https://localhost:8080/"
        },
        "id": "T7PdrrK-5OS9",
        "outputId": "d9fb601b-350a-4dc3-86d8-c982e5422296"
      },
      "execution_count": null,
      "outputs": [
        {
          "output_type": "stream",
          "name": "stderr",
          "text": [
            "  2%|▏         | 1/50 [00:02<02:18,  2.83s/it]"
          ]
        },
        {
          "output_type": "stream",
          "name": "stdout",
          "text": [
            "Extracted 30 faces from fake-tqvdzgpzwp-0\n"
          ]
        },
        {
          "output_type": "stream",
          "name": "stderr",
          "text": [
            "\r  4%|▍         | 2/50 [00:05<02:08,  2.67s/it]"
          ]
        },
        {
          "output_type": "stream",
          "name": "stdout",
          "text": [
            "Extracted 28 faces from fake-awpdbtfgbj-0\n"
          ]
        },
        {
          "output_type": "stream",
          "name": "stderr",
          "text": [
            "\r  6%|▌         | 3/50 [00:08<02:06,  2.68s/it]"
          ]
        },
        {
          "output_type": "stream",
          "name": "stdout",
          "text": [
            "Extracted 19 faces from fake-xcmtevwwga-0\n"
          ]
        },
        {
          "output_type": "stream",
          "name": "stderr",
          "text": [
            "\r  8%|▊         | 4/50 [00:10<02:01,  2.64s/it]"
          ]
        },
        {
          "output_type": "stream",
          "name": "stdout",
          "text": [
            "Extracted 30 faces from fake-ldjgncjzfw-0\n"
          ]
        },
        {
          "output_type": "stream",
          "name": "stderr",
          "text": [
            "\r 10%|█         | 5/50 [00:13<02:03,  2.74s/it]"
          ]
        },
        {
          "output_type": "stream",
          "name": "stdout",
          "text": [
            "Extracted 30 faces from real-keikgjgled-0\n"
          ]
        },
        {
          "output_type": "stream",
          "name": "stderr",
          "text": [
            "\r 12%|█▏        | 6/50 [00:16<01:57,  2.66s/it]"
          ]
        },
        {
          "output_type": "stream",
          "name": "stdout",
          "text": [
            "Extracted 30 faces from fake-bnlqpmwotj-0\n"
          ]
        },
        {
          "output_type": "stream",
          "name": "stderr",
          "text": [
            "\r 14%|█▍        | 7/50 [00:18<01:53,  2.63s/it]"
          ]
        },
        {
          "output_type": "stream",
          "name": "stdout",
          "text": [
            "Extracted 30 faces from fake-smaikulspm-0\n"
          ]
        },
        {
          "output_type": "stream",
          "name": "stderr",
          "text": [
            "\r 16%|█▌        | 8/50 [00:21<01:54,  2.74s/it]"
          ]
        },
        {
          "output_type": "stream",
          "name": "stdout",
          "text": [
            "Extracted 21 faces from fake-pfujbaumtj-1\n"
          ]
        },
        {
          "output_type": "stream",
          "name": "stderr",
          "text": [
            "\r 18%|█▊        | 9/50 [00:24<01:49,  2.67s/it]"
          ]
        },
        {
          "output_type": "stream",
          "name": "stdout",
          "text": [
            "Extracted 27 faces from fake-yhyjoltgld-0\n"
          ]
        },
        {
          "output_type": "stream",
          "name": "stderr",
          "text": [
            "\r 20%|██        | 10/50 [00:26<01:44,  2.62s/it]"
          ]
        },
        {
          "output_type": "stream",
          "name": "stdout",
          "text": [
            "Extracted 28 faces from fake-trlhchyeij-0\n"
          ]
        },
        {
          "output_type": "stream",
          "name": "stderr",
          "text": [
            "\r 22%|██▏       | 11/50 [00:29<01:41,  2.60s/it]"
          ]
        },
        {
          "output_type": "stream",
          "name": "stdout",
          "text": [
            "Extracted 30 faces from fake-mspfqguhld-0\n"
          ]
        },
        {
          "output_type": "stream",
          "name": "stderr",
          "text": [
            "\r 24%|██▍       | 12/50 [00:32<01:45,  2.78s/it]"
          ]
        },
        {
          "output_type": "stream",
          "name": "stdout",
          "text": [
            "Extracted 27 faces from fake-htwfgdztjj-1\n"
          ]
        },
        {
          "output_type": "stream",
          "name": "stderr",
          "text": [
            "\r 26%|██▌       | 13/50 [00:35<01:51,  3.02s/it]"
          ]
        },
        {
          "output_type": "stream",
          "name": "stdout",
          "text": [
            "Extracted 30 faces from real-keikgjgled-1\n"
          ]
        },
        {
          "output_type": "stream",
          "name": "stderr",
          "text": [
            "\r 28%|██▊       | 14/50 [00:38<01:43,  2.89s/it]"
          ]
        },
        {
          "output_type": "stream",
          "name": "stdout",
          "text": [
            "Extracted 30 faces from fake-azvkbgaeoq-1\n"
          ]
        },
        {
          "output_type": "stream",
          "name": "stderr",
          "text": [
            "\r 30%|███       | 15/50 [00:41<01:37,  2.78s/it]"
          ]
        },
        {
          "output_type": "stream",
          "name": "stdout",
          "text": [
            "Extracted 23 faces from fake-cpezrspnjr-0\n"
          ]
        },
        {
          "output_type": "stream",
          "name": "stderr",
          "text": [
            "\r 32%|███▏      | 16/50 [00:44<01:36,  2.85s/it]"
          ]
        },
        {
          "output_type": "stream",
          "name": "stdout",
          "text": [
            "Extracted 30 faces from real-rhvponjpjq-0\n"
          ]
        },
        {
          "output_type": "stream",
          "name": "stderr",
          "text": [
            "\r 34%|███▍      | 17/50 [00:47<01:41,  3.06s/it]"
          ]
        },
        {
          "output_type": "stream",
          "name": "stdout",
          "text": [
            "Extracted 30 faces from real-lbnagdkozn-1\n"
          ]
        },
        {
          "output_type": "stream",
          "name": "stderr",
          "text": [
            "\r 36%|███▌      | 18/50 [00:52<01:50,  3.47s/it]"
          ]
        },
        {
          "output_type": "stream",
          "name": "stdout",
          "text": [
            "Extracted 20 faces from real-kneuzwgghn-1\n"
          ]
        },
        {
          "output_type": "stream",
          "name": "stderr",
          "text": [
            "\r 38%|███▊      | 19/50 [00:54<01:41,  3.29s/it]"
          ]
        },
        {
          "output_type": "stream",
          "name": "stdout",
          "text": [
            "Extracted 25 faces from fake-yxdnfmtmkc-0\n"
          ]
        },
        {
          "output_type": "stream",
          "name": "stderr",
          "text": [
            "\r 40%|████      | 20/50 [00:57<01:34,  3.14s/it]"
          ]
        },
        {
          "output_type": "stream",
          "name": "stdout",
          "text": [
            "Extracted 24 faces from fake-kdtljdgumq-0\n"
          ]
        },
        {
          "output_type": "stream",
          "name": "stderr",
          "text": [
            "\r 42%|████▏     | 21/50 [01:01<01:33,  3.24s/it]"
          ]
        },
        {
          "output_type": "stream",
          "name": "stdout",
          "text": [
            "Extracted 30 faces from real-nbyylsccci-0\n"
          ]
        },
        {
          "output_type": "stream",
          "name": "stderr",
          "text": [
            "\r 44%|████▍     | 22/50 [01:03<01:24,  3.03s/it]"
          ]
        },
        {
          "output_type": "stream",
          "name": "stdout",
          "text": [
            "Extracted 28 faces from fake-xkoaiukxcq-1\n"
          ]
        },
        {
          "output_type": "stream",
          "name": "stderr",
          "text": [
            "\r 46%|████▌     | 23/50 [01:07<01:25,  3.18s/it]"
          ]
        },
        {
          "output_type": "stream",
          "name": "stdout",
          "text": [
            "Extracted 30 faces from fake-rftseuxqkl-1\n"
          ]
        },
        {
          "output_type": "stream",
          "name": "stderr",
          "text": [
            "\r 48%|████▊     | 24/50 [01:09<01:19,  3.04s/it]"
          ]
        },
        {
          "output_type": "stream",
          "name": "stdout",
          "text": [
            "Extracted 30 faces from real-eseqomravm-0\n"
          ]
        },
        {
          "output_type": "stream",
          "name": "stderr",
          "text": [
            "\r 50%|█████     | 25/50 [01:12<01:11,  2.86s/it]"
          ]
        },
        {
          "output_type": "stream",
          "name": "stdout",
          "text": [
            "Extracted 29 faces from fake-kxmsgjcosz-0\n"
          ]
        },
        {
          "output_type": "stream",
          "name": "stderr",
          "text": [
            "\r 52%|█████▏    | 26/50 [01:14<01:06,  2.75s/it]"
          ]
        },
        {
          "output_type": "stream",
          "name": "stdout",
          "text": [
            "Extracted 26 faces from fake-mgihyaeyzx-1\n"
          ]
        },
        {
          "output_type": "stream",
          "name": "stderr",
          "text": [
            "\r 54%|█████▍    | 27/50 [01:17<01:01,  2.69s/it]"
          ]
        },
        {
          "output_type": "stream",
          "name": "stdout",
          "text": [
            "Extracted 19 faces from fake-srbrnievwy-1\n"
          ]
        },
        {
          "output_type": "stream",
          "name": "stderr",
          "text": [
            "\r 56%|█████▌    | 28/50 [01:20<00:58,  2.67s/it]"
          ]
        },
        {
          "output_type": "stream",
          "name": "stdout",
          "text": [
            "Extracted 23 faces from fake-xugfcnepbm-0\n"
          ]
        },
        {
          "output_type": "stream",
          "name": "stderr",
          "text": [
            "\r 58%|█████▊    | 29/50 [01:22<00:55,  2.66s/it]"
          ]
        },
        {
          "output_type": "stream",
          "name": "stdout",
          "text": [
            "Extracted 30 faces from fake-wvmnylsikk-0\n"
          ]
        },
        {
          "output_type": "stream",
          "name": "stderr",
          "text": [
            "\r 60%|██████    | 30/50 [01:25<00:52,  2.63s/it]"
          ]
        },
        {
          "output_type": "stream",
          "name": "stdout",
          "text": [
            "Extracted 27 faces from fake-hsqskhzmmc-1\n"
          ]
        },
        {
          "output_type": "stream",
          "name": "stderr",
          "text": [
            "\r 62%|██████▏   | 31/50 [01:27<00:49,  2.59s/it]"
          ]
        },
        {
          "output_type": "stream",
          "name": "stdout",
          "text": [
            "Extracted 25 faces from real-dtpdsicgjm-0\n"
          ]
        },
        {
          "output_type": "stream",
          "name": "stderr",
          "text": [
            "\r 64%|██████▍   | 32/50 [01:30<00:48,  2.68s/it]"
          ]
        },
        {
          "output_type": "stream",
          "name": "stdout",
          "text": [
            "Extracted 30 faces from fake-gintrwsusw-0\n"
          ]
        },
        {
          "output_type": "stream",
          "name": "stderr",
          "text": [
            "\r 66%|██████▌   | 33/50 [01:33<00:45,  2.69s/it]"
          ]
        },
        {
          "output_type": "stream",
          "name": "stdout",
          "text": [
            "Extracted 17 faces from fake-brhkdbpjpv-0\n"
          ]
        },
        {
          "output_type": "stream",
          "name": "stderr",
          "text": [
            "\r 68%|██████▊   | 34/50 [01:37<00:47,  2.99s/it]"
          ]
        },
        {
          "output_type": "stream",
          "name": "stdout",
          "text": [
            "Extracted 29 faces from real-yirkaxfwgb-1\n"
          ]
        },
        {
          "output_type": "stream",
          "name": "stderr",
          "text": [
            "\r 70%|███████   | 35/50 [01:39<00:42,  2.85s/it]"
          ]
        },
        {
          "output_type": "stream",
          "name": "stdout",
          "text": [
            "Extracted 29 faces from fake-sdnuhxwqen-0\n"
          ]
        },
        {
          "output_type": "stream",
          "name": "stderr",
          "text": [
            "\r 72%|███████▏  | 36/50 [01:42<00:38,  2.75s/it]"
          ]
        },
        {
          "output_type": "stream",
          "name": "stdout",
          "text": [
            "Extracted 29 faces from fake-bajoyrzwaa-0\n"
          ]
        },
        {
          "output_type": "stream",
          "name": "stderr",
          "text": [
            "\r 74%|███████▍  | 37/50 [01:46<00:42,  3.28s/it]"
          ]
        },
        {
          "output_type": "stream",
          "name": "stdout",
          "text": [
            "Extracted 27 faces from real-tbrmmxscbx-1\n"
          ]
        },
        {
          "output_type": "stream",
          "name": "stderr",
          "text": [
            "\r 76%|███████▌  | 38/50 [01:49<00:36,  3.06s/it]"
          ]
        },
        {
          "output_type": "stream",
          "name": "stdout",
          "text": [
            "Extracted 25 faces from fake-siyrvwrfew-0\n"
          ]
        },
        {
          "output_type": "stream",
          "name": "stderr",
          "text": [
            "\r 78%|███████▊  | 39/50 [01:51<00:31,  2.90s/it]"
          ]
        },
        {
          "output_type": "stream",
          "name": "stdout",
          "text": [
            "Extracted 29 faces from fake-beoohhpboz-0\n"
          ]
        },
        {
          "output_type": "stream",
          "name": "stderr",
          "text": [
            "\r 80%|████████  | 40/50 [01:54<00:27,  2.76s/it]"
          ]
        },
        {
          "output_type": "stream",
          "name": "stdout",
          "text": [
            "Extracted 30 faces from real-syqnnflpjv-1\n"
          ]
        },
        {
          "output_type": "stream",
          "name": "stderr",
          "text": [
            "\r 82%|████████▏ | 41/50 [01:57<00:25,  2.83s/it]"
          ]
        },
        {
          "output_type": "stream",
          "name": "stdout",
          "text": [
            "Extracted 23 faces from fake-qyprogscdh-0\n"
          ]
        },
        {
          "output_type": "stream",
          "name": "stderr",
          "text": [
            "\r 84%|████████▍ | 42/50 [01:59<00:22,  2.79s/it]"
          ]
        },
        {
          "output_type": "stream",
          "name": "stdout",
          "text": [
            "Extracted 28 faces from fake-cwqiiminqn-1\n"
          ]
        },
        {
          "output_type": "stream",
          "name": "stderr",
          "text": [
            "\r 86%|████████▌ | 43/50 [02:02<00:19,  2.84s/it]"
          ]
        },
        {
          "output_type": "stream",
          "name": "stdout",
          "text": [
            "Extracted 26 faces from fake-vqfztxqbml-1\n"
          ]
        },
        {
          "output_type": "stream",
          "name": "stderr",
          "text": [
            "\r 88%|████████▊ | 44/50 [02:05<00:16,  2.77s/it]"
          ]
        },
        {
          "output_type": "stream",
          "name": "stdout",
          "text": [
            "Extracted 24 faces from fake-xldohgosrb-1\n"
          ]
        },
        {
          "output_type": "stream",
          "name": "stderr",
          "text": [
            "\r 90%|█████████ | 45/50 [02:07<00:13,  2.71s/it]"
          ]
        },
        {
          "output_type": "stream",
          "name": "stdout",
          "text": [
            "Extracted 20 faces from fake-faaezphusq-1\n"
          ]
        },
        {
          "output_type": "stream",
          "name": "stderr",
          "text": [
            "\r 92%|█████████▏| 46/50 [02:11<00:11,  2.83s/it]"
          ]
        },
        {
          "output_type": "stream",
          "name": "stdout",
          "text": [
            "Extracted 20 faces from fake-yivzzqafeq-1\n"
          ]
        },
        {
          "output_type": "stream",
          "name": "stderr",
          "text": [
            "\r 94%|█████████▍| 47/50 [02:13<00:08,  2.75s/it]"
          ]
        },
        {
          "output_type": "stream",
          "name": "stdout",
          "text": [
            "Extracted 29 faces from fake-zokpmwyjvo-0\n"
          ]
        },
        {
          "output_type": "stream",
          "name": "stderr",
          "text": [
            "\r 96%|█████████▌| 48/50 [02:16<00:05,  2.68s/it]"
          ]
        },
        {
          "output_type": "stream",
          "name": "stdout",
          "text": [
            "Extracted 22 faces from fake-zbhicnfugc-1\n"
          ]
        },
        {
          "output_type": "stream",
          "name": "stderr",
          "text": [
            "\r 98%|█████████▊| 49/50 [02:18<00:02,  2.65s/it]"
          ]
        },
        {
          "output_type": "stream",
          "name": "stdout",
          "text": [
            "Extracted 30 faces from fake-zxetlrqrwe-1\n"
          ]
        },
        {
          "output_type": "stream",
          "name": "stderr",
          "text": [
            "100%|██████████| 50/50 [02:21<00:00,  2.83s/it]"
          ]
        },
        {
          "output_type": "stream",
          "name": "stdout",
          "text": [
            "Extracted 29 faces from fake-bhtoegtzyi-1\n",
            "✅ Face extraction completed!\n"
          ]
        },
        {
          "output_type": "stream",
          "name": "stderr",
          "text": [
            "\n"
          ]
        }
      ]
    },
    {
      "cell_type": "code",
      "source": [
        "!pip install tensorflow opencv-python-headless matplotlib numpy tqdm"
      ],
      "metadata": {
        "colab": {
          "base_uri": "https://localhost:8080/"
        },
        "id": "0C-rtMaU6Mrj",
        "outputId": "e221fd89-d929-4187-8be9-ebc92dc534ff"
      },
      "execution_count": null,
      "outputs": [
        {
          "output_type": "stream",
          "name": "stdout",
          "text": [
            "Requirement already satisfied: tensorflow in /usr/local/lib/python3.11/dist-packages (2.19.0)\n",
            "Requirement already satisfied: opencv-python-headless in /usr/local/lib/python3.11/dist-packages (4.11.0.86)\n",
            "Requirement already satisfied: matplotlib in /usr/local/lib/python3.11/dist-packages (3.10.0)\n",
            "Requirement already satisfied: numpy in /usr/local/lib/python3.11/dist-packages (2.0.2)\n",
            "Requirement already satisfied: tqdm in /usr/local/lib/python3.11/dist-packages (4.67.1)\n",
            "Requirement already satisfied: absl-py>=1.0.0 in /usr/local/lib/python3.11/dist-packages (from tensorflow) (1.4.0)\n",
            "Requirement already satisfied: astunparse>=1.6.0 in /usr/local/lib/python3.11/dist-packages (from tensorflow) (1.6.3)\n",
            "Requirement already satisfied: flatbuffers>=24.3.25 in /usr/local/lib/python3.11/dist-packages (from tensorflow) (25.2.10)\n",
            "Requirement already satisfied: gast!=0.5.0,!=0.5.1,!=0.5.2,>=0.2.1 in /usr/local/lib/python3.11/dist-packages (from tensorflow) (0.6.0)\n",
            "Requirement already satisfied: google-pasta>=0.1.1 in /usr/local/lib/python3.11/dist-packages (from tensorflow) (0.2.0)\n",
            "Requirement already satisfied: libclang>=13.0.0 in /usr/local/lib/python3.11/dist-packages (from tensorflow) (18.1.1)\n",
            "Requirement already satisfied: opt-einsum>=2.3.2 in /usr/local/lib/python3.11/dist-packages (from tensorflow) (3.4.0)\n",
            "Requirement already satisfied: packaging in /usr/local/lib/python3.11/dist-packages (from tensorflow) (24.2)\n",
            "Requirement already satisfied: protobuf!=4.21.0,!=4.21.1,!=4.21.2,!=4.21.3,!=4.21.4,!=4.21.5,<6.0.0dev,>=3.20.3 in /usr/local/lib/python3.11/dist-packages (from tensorflow) (5.29.3)\n",
            "Requirement already satisfied: requests<3,>=2.21.0 in /usr/local/lib/python3.11/dist-packages (from tensorflow) (2.32.3)\n",
            "Requirement already satisfied: setuptools in /usr/local/lib/python3.11/dist-packages (from tensorflow) (75.1.0)\n",
            "Requirement already satisfied: six>=1.12.0 in /usr/local/lib/python3.11/dist-packages (from tensorflow) (1.17.0)\n",
            "Requirement already satisfied: termcolor>=1.1.0 in /usr/local/lib/python3.11/dist-packages (from tensorflow) (2.5.0)\n",
            "Requirement already satisfied: typing-extensions>=3.6.6 in /usr/local/lib/python3.11/dist-packages (from tensorflow) (4.12.2)\n",
            "Requirement already satisfied: wrapt>=1.11.0 in /usr/local/lib/python3.11/dist-packages (from tensorflow) (1.17.2)\n",
            "Requirement already satisfied: grpcio<2.0,>=1.24.3 in /usr/local/lib/python3.11/dist-packages (from tensorflow) (1.71.0)\n",
            "Requirement already satisfied: tensorboard~=2.19.0 in /usr/local/lib/python3.11/dist-packages (from tensorflow) (2.19.0)\n",
            "Requirement already satisfied: keras>=3.5.0 in /usr/local/lib/python3.11/dist-packages (from tensorflow) (3.8.0)\n",
            "Requirement already satisfied: h5py>=3.11.0 in /usr/local/lib/python3.11/dist-packages (from tensorflow) (3.13.0)\n",
            "Requirement already satisfied: ml-dtypes<1.0.0,>=0.5.1 in /usr/local/lib/python3.11/dist-packages (from tensorflow) (0.5.1)\n",
            "Requirement already satisfied: tensorflow-io-gcs-filesystem>=0.23.1 in /usr/local/lib/python3.11/dist-packages (from tensorflow) (0.37.1)\n",
            "Requirement already satisfied: contourpy>=1.0.1 in /usr/local/lib/python3.11/dist-packages (from matplotlib) (1.3.1)\n",
            "Requirement already satisfied: cycler>=0.10 in /usr/local/lib/python3.11/dist-packages (from matplotlib) (0.12.1)\n",
            "Requirement already satisfied: fonttools>=4.22.0 in /usr/local/lib/python3.11/dist-packages (from matplotlib) (4.56.0)\n",
            "Requirement already satisfied: kiwisolver>=1.3.1 in /usr/local/lib/python3.11/dist-packages (from matplotlib) (1.4.8)\n",
            "Requirement already satisfied: pillow>=8 in /usr/local/lib/python3.11/dist-packages (from matplotlib) (11.1.0)\n",
            "Requirement already satisfied: pyparsing>=2.3.1 in /usr/local/lib/python3.11/dist-packages (from matplotlib) (3.2.1)\n",
            "Requirement already satisfied: python-dateutil>=2.7 in /usr/local/lib/python3.11/dist-packages (from matplotlib) (2.9.0.post0)\n",
            "Requirement already satisfied: wheel<1.0,>=0.23.0 in /usr/local/lib/python3.11/dist-packages (from astunparse>=1.6.0->tensorflow) (0.45.1)\n",
            "Requirement already satisfied: rich in /usr/local/lib/python3.11/dist-packages (from keras>=3.5.0->tensorflow) (13.9.4)\n",
            "Requirement already satisfied: namex in /usr/local/lib/python3.11/dist-packages (from keras>=3.5.0->tensorflow) (0.0.8)\n",
            "Requirement already satisfied: optree in /usr/local/lib/python3.11/dist-packages (from keras>=3.5.0->tensorflow) (0.14.1)\n",
            "Requirement already satisfied: charset-normalizer<4,>=2 in /usr/local/lib/python3.11/dist-packages (from requests<3,>=2.21.0->tensorflow) (3.4.1)\n",
            "Requirement already satisfied: idna<4,>=2.5 in /usr/local/lib/python3.11/dist-packages (from requests<3,>=2.21.0->tensorflow) (3.10)\n",
            "Requirement already satisfied: urllib3<3,>=1.21.1 in /usr/local/lib/python3.11/dist-packages (from requests<3,>=2.21.0->tensorflow) (2.3.0)\n",
            "Requirement already satisfied: certifi>=2017.4.17 in /usr/local/lib/python3.11/dist-packages (from requests<3,>=2.21.0->tensorflow) (2025.1.31)\n",
            "Requirement already satisfied: markdown>=2.6.8 in /usr/lib/python3/dist-packages (from tensorboard~=2.19.0->tensorflow) (3.3.6)\n",
            "Requirement already satisfied: tensorboard-data-server<0.8.0,>=0.7.0 in /usr/local/lib/python3.11/dist-packages (from tensorboard~=2.19.0->tensorflow) (0.7.2)\n",
            "Requirement already satisfied: werkzeug>=1.0.1 in /usr/local/lib/python3.11/dist-packages (from tensorboard~=2.19.0->tensorflow) (3.1.3)\n",
            "Requirement already satisfied: MarkupSafe>=2.1.1 in /usr/local/lib/python3.11/dist-packages (from werkzeug>=1.0.1->tensorboard~=2.19.0->tensorflow) (3.0.2)\n",
            "Requirement already satisfied: markdown-it-py>=2.2.0 in /usr/local/lib/python3.11/dist-packages (from rich->keras>=3.5.0->tensorflow) (3.0.0)\n",
            "Requirement already satisfied: pygments<3.0.0,>=2.13.0 in /usr/local/lib/python3.11/dist-packages (from rich->keras>=3.5.0->tensorflow) (2.19.1)\n",
            "Requirement already satisfied: mdurl~=0.1 in /usr/local/lib/python3.11/dist-packages (from markdown-it-py>=2.2.0->rich->keras>=3.5.0->tensorflow) (0.1.2)\n"
          ]
        }
      ]
    },
    {
      "cell_type": "code",
      "source": [
        "import os\n",
        "import cv2\n",
        "import numpy as np\n",
        "import tensorflow as tf\n",
        "from tensorflow.keras.applications import VGG16\n",
        "from tensorflow.keras.applications.vgg16 import preprocess_input\n",
        "from tensorflow.keras.models import Model\n",
        "from tqdm import tqdm"
      ],
      "metadata": {
        "id": "BG3wr6g06Nek"
      },
      "execution_count": null,
      "outputs": []
    },
    {
      "cell_type": "code",
      "source": [
        "import os\n",
        "data_dir = \"/content/processed_faces\"\n",
        "\n",
        "if os.path.exists(data_dir):\n",
        "    print(\"✅ Processed Faces Found:\", os.listdir(data_dir))\n",
        "else:\n",
        "    print(\"❌ No processed face data found! Check extraction step.\")\n"
      ],
      "metadata": {
        "colab": {
          "base_uri": "https://localhost:8080/"
        },
        "id": "dULxBbdb6UPl",
        "outputId": "0b06e984-6d74-4318-f01a-dff400015312"
      },
      "execution_count": null,
      "outputs": [
        {
          "output_type": "stream",
          "name": "stdout",
          "text": [
            "✅ Processed Faces Found: ['fake-zxetlrqrwe-1', 'fake-yxdnfmtmkc-0', 'fake-htwfgdztjj-1', 'fake-srbrnievwy-1', 'fake-wvmnylsikk-0', 'fake-pfujbaumtj-1', 'fake-mspfqguhld-0', 'fake-tqvdzgpzwp-0', 'fake-xcmtevwwga-0', 'fake-mgihyaeyzx-1', 'fake-qyprogscdh-0', 'fake-trlhchyeij-0', 'fake-cwqiiminqn-1', 'real-nbyylsccci-0', 'fake-vqfztxqbml-1', 'fake-gintrwsusw-0', 'fake-azvkbgaeoq-1', 'fake-bhtoegtzyi-1', 'fake-siyrvwrfew-0', 'real-eseqomravm-0', 'fake-xugfcnepbm-0', 'real-syqnnflpjv-1', 'real-keikgjgled-0', 'real-rhvponjpjq-0', 'real-yirkaxfwgb-1', 'real-tbrmmxscbx-1', 'fake-awpdbtfgbj-0', 'fake-hsqskhzmmc-1', 'fake-kdtljdgumq-0', 'fake-ldjgncjzfw-0', 'fake-sdnuhxwqen-0', 'fake-faaezphusq-1', 'fake-zbhicnfugc-1', 'fake-brhkdbpjpv-0', 'real-keikgjgled-1', 'fake-smaikulspm-0', 'fake-yivzzqafeq-1', 'fake-kxmsgjcosz-0', 'real-kneuzwgghn-1', 'fake-xkoaiukxcq-1', 'fake-zokpmwyjvo-0', 'fake-beoohhpboz-0', 'fake-rftseuxqkl-1', 'real-dtpdsicgjm-0', 'fake-cpezrspnjr-0', 'real-lbnagdkozn-1', 'fake-yhyjoltgld-0', 'fake-xldohgosrb-1', 'fake-bajoyrzwaa-0', 'fake-bnlqpmwotj-0']\n"
          ]
        }
      ]
    },
    {
      "cell_type": "code",
      "source": [
        "import numpy as np\n",
        "\n",
        "print(\"✅ Features Shape:\", np.array(X).shape)\n",
        "print(\"✅ Labels Shape:\", np.array(y).shape)"
      ],
      "metadata": {
        "colab": {
          "base_uri": "https://localhost:8080/"
        },
        "id": "A86jM00m8PQg",
        "outputId": "8b99c5e4-58fe-4617-e81f-0ec5bbc5070d"
      },
      "execution_count": null,
      "outputs": [
        {
          "output_type": "stream",
          "name": "stdout",
          "text": [
            "✅ Features Shape: (0,)\n",
            "✅ Labels Shape: (0,)\n"
          ]
        }
      ]
    },
    {
      "cell_type": "code",
      "source": [
        "import glob\n",
        "\n",
        "sample_face = glob.glob(\"/content/processed_faces/fake-awpdbtfgbj-0/frame_0_face_0.jpg\")  # Adjust if needed\n",
        "if sample_face:\n",
        "    print(\"✅ Found image:\", sample_face[0])\n",
        "else:\n",
        "    print(\"❌ No images found in processed_faces/real/\")\n"
      ],
      "metadata": {
        "colab": {
          "base_uri": "https://localhost:8080/"
        },
        "id": "r60ej_FN8Vx5",
        "outputId": "16a847c3-1afb-4b84-b036-fd1bec1db392"
      },
      "execution_count": null,
      "outputs": [
        {
          "output_type": "stream",
          "name": "stdout",
          "text": [
            "✅ Found image: /content/processed_faces/fake-awpdbtfgbj-0/frame_0_face_0.jpg\n"
          ]
        }
      ]
    },
    {
      "cell_type": "code",
      "source": [
        "import pandas as pd\n",
        "df = pd.DataFrame({\"label\": y})\n",
        "print(df[\"label\"].value_counts())"
      ],
      "metadata": {
        "colab": {
          "base_uri": "https://localhost:8080/"
        },
        "id": "9IcQ0_Fe6Ww2",
        "outputId": "8d0cf242-ad6c-4873-bab2-00538fb3bc95"
      },
      "execution_count": null,
      "outputs": [
        {
          "output_type": "stream",
          "name": "stdout",
          "text": [
            "Series([], Name: count, dtype: int64)\n"
          ]
        }
      ]
    },
    {
      "cell_type": "code",
      "source": [
        "import cv2\n",
        "import matplotlib.pyplot as plt\n",
        "\n",
        "# Path to the detected image\n",
        "sample_face = \"/content/processed_faces/fake-awpdbtfgbj-0/frame_0_face_0.jpg\"\n",
        "\n",
        "# Read the image\n",
        "img = cv2.imread(sample_face)\n",
        "\n",
        "# Check if the image was loaded successfully\n",
        "if img is None:\n",
        "    print(f\"❌ Failed to load image: {sample_face}\")\n",
        "    print(\"🔎 Possible reasons: Wrong file path, missing file, or unsupported format.\")\n",
        "else:\n",
        "    # Convert to RGB and display\n",
        "    img = cv2.cvtColor(img, cv2.COLOR_BGR2RGB)\n",
        "    plt.imshow(img)\n",
        "    plt.axis(\"off\")\n",
        "    plt.show()\n",
        "    print(\"✅ Image displayed successfully!\")\n"
      ],
      "metadata": {
        "colab": {
          "base_uri": "https://localhost:8080/",
          "height": 426
        },
        "id": "Qb6IOTnb-BmI",
        "outputId": "7bd0a7ac-96c4-429e-ee40-5b95e91662f6"
      },
      "execution_count": null,
      "outputs": [
        {
          "output_type": "display_data",
          "data": {
            "text/plain": [
              "<Figure size 640x480 with 1 Axes>"
            ],
            "image/png": "[encoded data removed]"
          },
          "metadata": {}
        },
        {
          "output_type": "stream",
          "name": "stdout",
          "text": [
            "✅ Image displayed successfully!\n"
          ]
        }
      ]
    },
    {
      "cell_type": "code",
      "source": [
        "import cv2\n",
        "import os\n",
        "\n",
        "def extract_faces(video_path, output_folder, frame_skip=10):\n",
        "    \"\"\"Extracts faces from a video and saves them as images.\"\"\"\n",
        "    os.makedirs(output_folder, exist_ok=True)\n",
        "    cap = cv2.VideoCapture(video_path)\n",
        "    face_cascade = cv2.CascadeClassifier(cv2.data.haarcascades + 'haarcascade_frontalface_default.xml')\n",
        "\n",
        "    frame_count = 0\n",
        "    success, frame = cap.read()\n",
        "    while success:\n",
        "        if frame_count % frame_skip == 0:\n",
        "            gray = cv2.cvtColor(frame, cv2.COLOR_BGR2GRAY)\n",
        "            faces = face_cascade.detectMultiScale(gray, scaleFactor=1.1, minNeighbors=5, minSize=(30, 30))\n",
        "\n",
        "            for i, (x, y, w, h) in enumerate(faces):\n",
        "                face = frame[y:y+h, x:x+w]\n",
        "                face_path = os.path.join(output_folder, f\"frame_{frame_count}_face_{i}.jpg\")\n",
        "                cv2.imwrite(face_path, face)\n",
        "\n",
        "        success, frame = cap.read()\n",
        "        frame_count += 1\n",
        "\n",
        "    cap.release()\n",
        "    print(f\"✅ Faces extracted and saved in {output_folder}\")\n",
        "\n",
        "# Example usage\n",
        "extract_faces(\"sample_video.mp4\", \"processed_faces\")\n"
      ],
      "metadata": {
        "colab": {
          "base_uri": "https://localhost:8080/"
        },
        "id": "LwLPeyMy-blF",
        "outputId": "908297aa-4748-463d-89ea-4c1fa607927b"
      },
      "execution_count": null,
      "outputs": [
        {
          "output_type": "stream",
          "name": "stdout",
          "text": [
            "✅ Faces extracted and saved in processed_faces\n"
          ]
        }
      ]
    },
    {
      "cell_type": "code",
      "source": [
        "import numpy as np\n",
        "from tensorflow.keras.applications import VGG16\n",
        "from tensorflow.keras.preprocessing import image\n",
        "from tensorflow.keras.applications.vgg16 import preprocess_input\n",
        "\n",
        "vgg_model = VGG16(weights=\"imagenet\", include_top=False)\n",
        "\n",
        "def test_feature_extraction(img_path):\n",
        "    \"\"\"Test feature extraction for debugging.\"\"\"\n",
        "    try:\n",
        "        img = image.load_img(img_path, target_size=(224, 224))\n",
        "        img_array = image.img_to_array(img)\n",
        "        img_array = np.expand_dims(img_array, axis=0)\n",
        "        img_array = preprocess_input(img_array)\n",
        "\n",
        "        features = vgg_model.predict(img_array)\n",
        "        print(f\"✅ Extracted features: {features.shape}\")\n",
        "    except Exception as e:\n",
        "        print(f\"❌ Feature extraction failed: {e}\")\n",
        "\n",
        "test_feature_extraction(\"/content/processed_faces/fake-bajoyrzwaa-0/frame_100_face_0.jpg\")\n"
      ],
      "metadata": {
        "colab": {
          "base_uri": "https://localhost:8080/"
        },
        "id": "DtRwUe7F-1xV",
        "outputId": "c2aed3f0-df1e-4525-aeeb-d0fcad4f28a1"
      },
      "execution_count": null,
      "outputs": [
        {
          "output_type": "stream",
          "name": "stdout",
          "text": [
            "\u001b[1m1/1\u001b[0m \u001b[32m━━━━━━━━━━━━━━━━━━━━\u001b[0m\u001b[37m\u001b[0m \u001b[1m1s\u001b[0m 858ms/step\n",
            "✅ Extracted features: (1, 7, 7, 512)\n"
          ]
        }
      ]
    },
    {
      "cell_type": "code",
      "source": [
        "import cv2\n",
        "from tensorflow.keras.applications.vgg16 import preprocess_input\n",
        "\n",
        "sample_image = sample_images[0]\n",
        "img = cv2.imread(sample_image)\n",
        "\n",
        "if img is None:\n",
        "    print(f\"❌ Failed to load image: {sample_image}\")\n",
        "else:\n",
        "    print(f\"✅ Loaded image: {sample_image}\")\n",
        "    img = cv2.resize(img, (224, 224))\n",
        "    img = preprocess_input(img)\n",
        "    img = np.expand_dims(img, axis=0)\n",
        "\n",
        "    features = feature_extractor.predict(img)\n",
        "    print(f\"✅ Extracted features shape: {features.shape}\")\n"
      ],
      "metadata": {
        "colab": {
          "base_uri": "https://localhost:8080/",
          "height": 295
        },
        "id": "zSX5lCxj_7gR",
        "outputId": "2210e533-9226-4914-db7a-6782bf26e3d6"
      },
      "execution_count": null,
      "outputs": [
        {
          "output_type": "error",
          "ename": "NameError",
          "evalue": "name 'sample_images' is not defined",
          "traceback": [
            "\u001b[0;31m---------------------------------------------------------------------------\u001b[0m",
            "\u001b[0;31mNameError\u001b[0m                                 Traceback (most recent call last)",
            "\u001b[0;32m<ipython-input-42-34c53895ba39>\u001b[0m in \u001b[0;36m<cell line: 0>\u001b[0;34m()\u001b[0m\n\u001b[1;32m      2\u001b[0m \u001b[0;32mfrom\u001b[0m \u001b[0mtensorflow\u001b[0m\u001b[0;34m.\u001b[0m\u001b[0mkeras\u001b[0m\u001b[0;34m.\u001b[0m\u001b[0mapplications\u001b[0m\u001b[0;34m.\u001b[0m\u001b[0mvgg16\u001b[0m \u001b[0;32mimport\u001b[0m \u001b[0mpreprocess_input\u001b[0m\u001b[0;34m\u001b[0m\u001b[0;34m\u001b[0m\u001b[0m\n\u001b[1;32m      3\u001b[0m \u001b[0;34m\u001b[0m\u001b[0m\n\u001b[0;32m----> 4\u001b[0;31m \u001b[0msample_image\u001b[0m \u001b[0;34m=\u001b[0m \u001b[0msample_images\u001b[0m\u001b[0;34m[\u001b[0m\u001b[0;36m0\u001b[0m\u001b[0;34m]\u001b[0m\u001b[0;34m\u001b[0m\u001b[0;34m\u001b[0m\u001b[0m\n\u001b[0m\u001b[1;32m      5\u001b[0m \u001b[0mimg\u001b[0m \u001b[0;34m=\u001b[0m \u001b[0mcv2\u001b[0m\u001b[0;34m.\u001b[0m\u001b[0mimread\u001b[0m\u001b[0;34m(\u001b[0m\u001b[0msample_image\u001b[0m\u001b[0;34m)\u001b[0m\u001b[0;34m\u001b[0m\u001b[0;34m\u001b[0m\u001b[0m\n\u001b[1;32m      6\u001b[0m \u001b[0;34m\u001b[0m\u001b[0m\n",
            "\u001b[0;31mNameError\u001b[0m: name 'sample_images' is not defined"
          ]
        }
      ]
    },
    {
      "cell_type": "code",
      "source": [
        "# Load Pretrained VGG16 Model (Feature Extractor)\n",
        "base_model = VGG16(weights=\"imagenet\", include_top=False, input_shape=(128, 128, 3))\n",
        "feature_extractor = Model(inputs=base_model.input, outputs=base_model.output)\n",
        "\n",
        "def load_data(data_dir):\n",
        "    \"\"\"\n",
        "    Load images, extract features using VGG16, and return sequences + labels.\n",
        "    \"\"\"\n",
        "    sequences = []\n",
        "    labels = []\n",
        "\n",
        "    for label in [\"real\", \"fake\"]:\n",
        "        label_dir = os.path.join(data_dir, label)\n",
        "        if not os.path.exists(label_dir):\n",
        "            continue\n",
        "\n",
        "        for video_folder in tqdm(os.listdir(label_dir), desc=f\"Processing {label}\"):\n",
        "            video_path = os.path.join(label_dir, video_folder)\n",
        "            frame_features = []\n",
        "\n",
        "            for img_file in sorted(os.listdir(video_path)):  # Keep sequence order\n",
        "                img_path = os.path.join(video_path, img_file)\n",
        "                img = cv2.imread(img_path)\n",
        "                img = cv2.resize(img, IMG_SIZE)\n",
        "                img = preprocess_input(img)  # Normalize for VGG16\n",
        "\n",
        "                # Extract features\n",
        "                feature = feature_extractor.predict(np.expand_dims(img, axis=0))\n",
        "                feature = np.squeeze(feature)  # Remove batch dimension\n",
        "                frame_features.append(feature)\n",
        "\n",
        "            if len(frame_features) >= 10:  # Ensure enough frames for LSTM\n",
        "                sequences.append(np.array(frame_features[:10]))  # Fixed-length sequences\n",
        "                labels.append(1 if label == \"fake\" else 0)\n",
        "\n",
        "\n",
        "    return np.array(sequences), np.array(labels)\n",
        "\n",
        "# Load data\n",
        "X, y = load_data(data_dir)\n",
        "\n",
        "print(f\"✅ Data Loaded: {X.shape} (samples, timesteps, features), Labels: {y.shape}\")"
      ],
      "metadata": {
        "colab": {
          "base_uri": "https://localhost:8080/"
        },
        "id": "8ADPdcdq6ZiV",
        "outputId": "6648286c-1120-4756-8cb6-d653d1d16376"
      },
      "execution_count": null,
      "outputs": [
        {
          "output_type": "stream",
          "name": "stdout",
          "text": [
            "✅ Data Loaded: (0,) (samples, timesteps, features), Labels: (0,)\n"
          ]
        }
      ]
    },
    {
      "cell_type": "code",
      "source": [
        "from tensorflow.keras.models import Sequential\n",
        "from tensorflow.keras.layers import LSTM, Dense, Dropout, Flatten\n",
        "from tensorflow.keras.optimizers import Adam\n",
        "from sklearn.model_selection import train_test_split\n"
      ],
      "metadata": {
        "id": "NU6L4u206etc"
      },
      "execution_count": null,
      "outputs": []
    },
    {
      "cell_type": "code",
      "source": [
        "# Split dataset\n",
        "X_train, X_test, y_train, y_test = train_test_split(X, y, test_size=0.2, random_state=42)\n",
        "\n",
        "# Define LSTM Model\n",
        "model = Sequential([\n",
        "    LSTM(128, return_sequences=True, input_shape=(10, X.shape[-1])),\n",
        "    Dropout(0.3),\n",
        "    LSTM(64),\n",
        "    Dropout(0.3),\n",
        "    Dense(64, activation='relu'),\n",
        "    Dense(1, activation='sigmoid')  # Binary Classification (Fake or Real)\n",
        "])\n",
        "\n",
        "model.compile(optimizer=Adam(learning_rate=0.001), loss='binary_crossentropy', metrics=['accuracy'])\n",
        "\n",
        "# Train Model\n",
        "history = model.fit(X_train, y_train, validation_data=(X_test, y_test), epochs=10, batch_size=16)\n",
        "\n",
        "# Evaluate\n",
        "test_loss, test_acc = model.evaluate(X_test, y_test)\n",
        "print(f\"\\n✅ Test Accuracy: {test_acc * 100:.2f}%\")"
      ],
      "metadata": {
        "colab": {
          "base_uri": "https://localhost:8080/",
          "height": 295
        },
        "id": "kjChXy256lYg",
        "outputId": "233e1413-aeee-459f-ee7e-ea8eb4d3f424"
      },
      "execution_count": null,
      "outputs": [
        {
          "output_type": "error",
          "ename": "NameError",
          "evalue": "name 'train_test_split' is not defined",
          "traceback": [
            "\u001b[0;31m---------------------------------------------------------------------------\u001b[0m",
            "\u001b[0;31mNameError\u001b[0m                                 Traceback (most recent call last)",
            "\u001b[0;32m<ipython-input-1-3275faf768a4>\u001b[0m in \u001b[0;36m<cell line: 0>\u001b[0;34m()\u001b[0m\n\u001b[1;32m      1\u001b[0m \u001b[0;31m# Split dataset\u001b[0m\u001b[0;34m\u001b[0m\u001b[0;34m\u001b[0m\u001b[0m\n\u001b[0;32m----> 2\u001b[0;31m \u001b[0mX_train\u001b[0m\u001b[0;34m,\u001b[0m \u001b[0mX_test\u001b[0m\u001b[0;34m,\u001b[0m \u001b[0my_train\u001b[0m\u001b[0;34m,\u001b[0m \u001b[0my_test\u001b[0m \u001b[0;34m=\u001b[0m \u001b[0mtrain_test_split\u001b[0m\u001b[0;34m(\u001b[0m\u001b[0mX\u001b[0m\u001b[0;34m,\u001b[0m \u001b[0my\u001b[0m\u001b[0;34m,\u001b[0m \u001b[0mtest_size\u001b[0m\u001b[0;34m=\u001b[0m\u001b[0;36m0.2\u001b[0m\u001b[0;34m,\u001b[0m \u001b[0mrandom_state\u001b[0m\u001b[0;34m=\u001b[0m\u001b[0;36m42\u001b[0m\u001b[0;34m)\u001b[0m\u001b[0;34m\u001b[0m\u001b[0;34m\u001b[0m\u001b[0m\n\u001b[0m\u001b[1;32m      3\u001b[0m \u001b[0;34m\u001b[0m\u001b[0m\n\u001b[1;32m      4\u001b[0m \u001b[0;31m# Define LSTM Model\u001b[0m\u001b[0;34m\u001b[0m\u001b[0;34m\u001b[0m\u001b[0m\n\u001b[1;32m      5\u001b[0m model = Sequential([\n",
            "\u001b[0;31mNameError\u001b[0m: name 'train_test_split' is not defined"
          ]
        }
      ]
    },
    {
      "cell_type": "code",
      "source": [
        "def predict_video(video_path):\n",
        "    \"\"\"\n",
        "    Process video, extract face features, and predict if it's a deepfake.\n",
        "    \"\"\"\n",
        "    faces = extract_faces(video_path, \"/content/temp_faces\")  # Extract faces using previous function\n",
        "    if len(faces) < 10:\n",
        "        print(\"❌ Not enough faces detected!\")\n",
        "        return\n",
        "\n",
        "    features = []\n",
        "    for img_file in sorted(os.listdir(\"/content/temp_faces\"))[:10]:\n",
        "        img_path = os.path.join(\"/content/temp_faces\", img_file)\n",
        "        img = cv2.imread(img_path)\n",
        "        img = cv2.resize(img, IMG_SIZE)\n",
        "        img = preprocess_input(img)\n",
        "        feature = feature_extractor.predict(np.expand_dims(img, axis=0))\n",
        "        features.append(np.squeeze(feature))\n",
        "\n",
        "    # Predict\n",
        "    prediction = model.predict(np.expand_dims(features, axis=0))[0][0]\n",
        "    result = \"Fake\" if prediction > 0.5 else \"Real\"\n",
        "    print(f\"🔍 Prediction: {result} (Confidence: {prediction:.2f})\")\n",
        "\n",
        "# Test on new video\n",
        "predict_video(\"/content/test_video.mp4\")\n"
      ],
      "metadata": {
        "id": "Fub5bxU96p7f"
      },
      "execution_count": null,
      "outputs": []
    }
  ]
}